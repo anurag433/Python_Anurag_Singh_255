{
 "cells": [
  {
   "cell_type": "markdown",
   "id": "9a003608",
   "metadata": {},
   "source": [
    "input tag \n"
   ]
  },
  {
   "cell_type": "code",
   "execution_count": 3,
   "id": "bd4df535",
   "metadata": {},
   "outputs": [
    {
     "name": "stdout",
     "output_type": "stream",
     "text": [
      "Hello anurag singh\n"
     ]
    }
   ],
   "source": [
    "v = input(\"Enter your name\")\n",
    "print (\"Hello \" + v)    \n"
   ]
  },
  {
   "cell_type": "markdown",
   "id": "4026470d",
   "metadata": {},
   "source": [
    "condition\n"
   ]
  },
  {
   "cell_type": "code",
   "execution_count": 12,
   "id": "1f79fe16",
   "metadata": {},
   "outputs": [
    {
     "name": "stdout",
     "output_type": "stream",
     "text": [
      "a and b are equal\n"
     ]
    }
   ],
   "source": [
    "a = int(input(\"Enter a number: \"))\n",
    "b = int(input(\"Enter another number: \"))\n",
    "if (b > a):\n",
    "  print(\"b is greater than a\")\n",
    "elif (a == b):\n",
    "  print(\"a and b are equal\")\n",
    "else:\n",
    "  print(\"a is greater than b\")"
   ]
  },
  {
   "cell_type": "markdown",
   "id": "92b7cfcd",
   "metadata": {},
   "source": [
    "and / or /not \n"
   ]
  },
  {
   "cell_type": "code",
   "execution_count": null,
   "id": "70fd63c2",
   "metadata": {},
   "outputs": [],
   "source": [
    "a =200\n",
    "b =300\n",
    "c =400\n",
    "if c > a and c > b: \n",
    "  print(\"c is \")"
   ]
  }
 ],
 "metadata": {
  "kernelspec": {
   "display_name": "Python 3",
   "language": "python",
   "name": "python3"
  },
  "language_info": {
   "codemirror_mode": {
    "name": "ipython",
    "version": 3
   },
   "file_extension": ".py",
   "mimetype": "text/x-python",
   "name": "python",
   "nbconvert_exporter": "python",
   "pygments_lexer": "ipython3",
   "version": "3.13.1"
  }
 },
 "nbformat": 4,
 "nbformat_minor": 5
}
