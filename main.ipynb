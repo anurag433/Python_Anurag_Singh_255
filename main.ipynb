{
 "cells": [
  {
   "cell_type": "markdown",
   "id": "be3d22a8",
   "metadata": {},
   "source": []
  },
  {
   "cell_type": "markdown",
   "id": "e92fd725",
   "metadata": {},
   "source": [
    "replace string\n"
   ]
  },
  {
   "cell_type": "code",
   "execution_count": 2,
   "id": "1d813b92",
   "metadata": {},
   "outputs": [
    {
     "name": "stdout",
     "output_type": "stream",
     "text": [
      "Jello World\n"
     ]
    }
   ],
   "source": [
    "a = \"Hello World\"\n",
    "print(a.replace(\"H\", \"J\"))"
   ]
  },
  {
   "cell_type": "markdown",
   "id": "ec61793a",
   "metadata": {},
   "source": [
    "split string\n"
   ]
  },
  {
   "cell_type": "code",
   "execution_count": null,
   "id": "4ccfacc3",
   "metadata": {},
   "outputs": [
    {
     "ename": "TypeError",
     "evalue": "'str' object cannot be interpreted as an integer",
     "output_type": "error",
     "traceback": [
      "\u001b[31m---------------------------------------------------------------------------\u001b[39m",
      "\u001b[31mTypeError\u001b[39m                                 Traceback (most recent call last)",
      "\u001b[36mCell\u001b[39m\u001b[36m \u001b[39m\u001b[32mIn[3]\u001b[39m\u001b[32m, line 2\u001b[39m\n\u001b[32m      1\u001b[39m a = \u001b[33m\"\u001b[39m\u001b[33mHello World\u001b[39m\u001b[33m\"\u001b[39m\n\u001b[32m----> \u001b[39m\u001b[32m2\u001b[39m \u001b[38;5;28mprint\u001b[39m(\u001b[43ma\u001b[49m\u001b[43m.\u001b[49m\u001b[43msplit\u001b[49m\u001b[43m(\u001b[49m\u001b[33;43m\"\u001b[39;49m\u001b[33;43m\"\u001b[39;49m\u001b[43m,\u001b[49m\u001b[43m \u001b[49m\u001b[33;43m\"\u001b[39;49m\u001b[33;43m\"\u001b[39;49m\u001b[43m)\u001b[49m)\n",
      "\u001b[31mTypeError\u001b[39m: 'str' object cannot be interpreted as an integer"
     ]
    }
   ],
   "source": [
    "a = \"Hello World\"\n",
    "print(a.split())"
   ]
  },
  {
   "cell_type": "markdown",
   "id": "99c744a8",
   "metadata": {},
   "source": [
    "formate string"
   ]
  },
  {
   "cell_type": "code",
   "execution_count": null,
   "id": "5ae26866",
   "metadata": {},
   "outputs": [
    {
     "name": "stdout",
     "output_type": "stream",
     "text": [
      "My name is anurag singh, i am 18\n"
     ]
    }
   ],
   "source": [
    "age = 18 \n",
    "txt = f\"My name is anurag singh, i am {age}\" \n",
    "print(txt)"
   ]
  }
 ],
 "metadata": {
  "kernelspec": {
   "display_name": "Python 3",
   "language": "python",
   "name": "python3"
  },
  "language_info": {
   "codemirror_mode": {
    "name": "ipython",
    "version": 3
   },
   "file_extension": ".py",
   "mimetype": "text/x-python",
   "name": "python",
   "nbconvert_exporter": "python",
   "pygments_lexer": "ipython3",
   "version": "3.13.1"
  }
 },
 "nbformat": 4,
 "nbformat_minor": 5
}
